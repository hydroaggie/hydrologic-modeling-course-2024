{
 "cells": [
  {
   "cell_type": "markdown",
   "id": "5423d1b7-e00a-43da-9629-751f795b3231",
   "metadata": {},
   "source": [
    "# 1D flow and solute transport"
   ]
  },
  {
   "cell_type": "code",
   "execution_count": null,
   "id": "3e43e0b4-e5ca-4922-8106-b63b8fb4e213",
   "metadata": {},
   "outputs": [],
   "source": [
    "import sys\n",
    "import os\n",
    "try:\n",
    "  pflotran_dir = os.environ['PFLOTRAN_DIR']\n",
    "except KeyError:\n",
    "  print('PFLOTRAN_DIR must point to PFLOTRAN installation directory and be defined in system environment variables.')\n",
    "  sys.exit(1)\n",
    "sys.path.append(pflotran_dir + '/src/python')\n",
    "import numpy as np\n",
    "import matplotlib\n",
    "import matplotlib.pyplot as plt\n",
    "import math\n",
    "import pflotran as pft\n",
    "import glob\n",
    "from natsort import natsorted"
   ]
  },
  {
   "cell_type": "markdown",
   "id": "468b2753-c93b-4220-ac51-899b1837ab8c",
   "metadata": {},
   "source": [
    "Find Tecplot point files in current directory"
   ]
  },
  {
   "cell_type": "code",
   "execution_count": null,
   "id": "7c728cdd-526d-4b70-ad6b-a73b1f5ad00f",
   "metadata": {},
   "outputs": [],
   "source": [
    "# path = []\n",
    "# path.append('.')\n",
    "\n",
    "# files = pft.get_tec_filenames('1D_solute', range(9)) # CHANGE this for new filename and range\n",
    "# filenames = pft.get_full_paths(path,files)"
   ]
  },
  {
   "cell_type": "code",
   "execution_count": null,
   "id": "33d04705-c5c6-4a6f-b186-951b344426a0",
   "metadata": {},
   "outputs": [],
   "source": [
    "filenames = glob.glob(\"./1D_solute*.tec\")\n",
    "filenames = natsorted(filenames)"
   ]
  },
  {
   "cell_type": "markdown",
   "id": "0dc387ac-1f58-4d55-95ea-8af7409fbe1e",
   "metadata": {},
   "source": [
    "## Plot concentration profile over time"
   ]
  },
  {
   "cell_type": "code",
   "execution_count": null,
   "id": "81c97964-b298-4b22-8d27-4640e72d76b7",
   "metadata": {},
   "outputs": [],
   "source": [
    "f = plt.figure(figsize=(8,6), dpi=150)\n",
    "plt.subplot(1,1,1)\n",
    "f.suptitle(\"Concentration profiles for 1D transport\",fontsize=16)\n",
    "plt.xlabel('X [m]')\n",
    "plt.ylabel('Concentration [M]')\n",
    "\n",
    "# plt.xlim(0.,1.)\n",
    "\n",
    "# set line styles\n",
    "line_styles = []\n",
    "for i in range(len(filenames)-1):\n",
    "    line_styles.append('-')\n",
    "line_styles.append('--')\n",
    "\n",
    "line_widths = []\n",
    "for i in range(len(filenames)-1):\n",
    "    line_widths.append(1)\n",
    "line_widths.append(2)\n",
    "\n",
    "# read data and plot \n",
    "for ifile in range(len(filenames)):\n",
    "    # select the variables for the plot\n",
    "    # MODIFY this if your want to plot different variables\n",
    "    x_var = 1 # the 5th variable in the .tec file (i.e., \"X [m]\")\n",
    "    y_var = 6 # the 3rd variable in the .tec file (i.e., \"Total Tracer [M]\")\n",
    "    data = pft.Dataset(filenames[ifile],x_var,y_var) \n",
    "    plt.plot(data.get_array('x'),data.get_array('y'),label=data.title, \\\n",
    "           ls=line_styles[ifile],lw=line_widths[ifile])\n",
    "\n",
    "# set legend\n",
    "# plt.legend(loc=1,title='Time [y]')\n",
    "plt.legend(loc='upper left', title='Time [d]', fontsize = 10, bbox_to_anchor = (1.0,1.0))\n",
    "plt.setp(plt.gca().get_legend().get_texts(),fontsize='small')\n",
    "plt.gca().get_legend().get_frame().set_fill(False)\n",
    "plt.gca().get_legend().draw_frame(False)\n",
    "\n",
    "f.subplots_adjust(hspace=0.2,wspace=0.2,\n",
    "                  bottom=.12,top=.9,\n",
    "                  left=.12,right=.9)\n",
    "\n",
    "plt.show()"
   ]
  },
  {
   "cell_type": "markdown",
   "id": "5d9479ce-b81b-4a5b-a9fd-46ee60369b91",
   "metadata": {},
   "source": [
    "## Plot breakthrough curve"
   ]
  },
  {
   "cell_type": "markdown",
   "id": "db4381ff-19f9-415d-b77a-50d3cdf3751d",
   "metadata": {},
   "source": [
    "The observation point is located at midpoint of the column."
   ]
  },
  {
   "cell_type": "code",
   "execution_count": null,
   "id": "1b3fe94f-68c0-47f8-883d-ddb843f7dc0f",
   "metadata": {},
   "outputs": [],
   "source": [
    "filenames = glob.glob(\"./1D_solute*.pft\")\n",
    "# filenames = natsorted(filenames)"
   ]
  },
  {
   "cell_type": "code",
   "execution_count": null,
   "id": "fe230ef2-7c8b-4488-a001-c14f2e94f884",
   "metadata": {},
   "outputs": [],
   "source": [
    "# filenames = ['./1D_vsat_flow_pulse_2layer-obs-0.pft'] #!MODIFY this if your observation file name is different."
   ]
  },
  {
   "cell_type": "code",
   "execution_count": null,
   "id": "bef2b96c-f062-4300-9e7a-f43bb6d77238",
   "metadata": {},
   "outputs": [],
   "source": [
    "f = plt.figure(figsize=(6,6), dpi=150)\n",
    "plt.subplot(1,1,1)\n",
    "f.suptitle(\"Breakthrough Curve at Midpoint\",fontsize=14)\n",
    "plt.xlabel('Time [d]')\n",
    "plt.ylabel('Concentration [M]')\n",
    "\n",
    "# select the column index in the observation file\n",
    "column_index = 4 #!MODIFY this if your variable is different\n",
    "data = pft.Dataset(filenames[0],1,column_index)\n",
    "plt.plot(data.get_array('x'),data.get_array('y'),label='x=20 m')\n",
    "\n",
    "plt.legend(loc=\"lower right\",title='Location')\n",
    "plt.setp(plt.gca().get_legend().get_texts(),fontsize='small')\n",
    "plt.gca().get_legend().get_frame().set_fill(False)\n",
    "plt.gca().get_legend().draw_frame(False)\n",
    "\n",
    "f.subplots_adjust(hspace=0.2,wspace=0.2,\n",
    "                  bottom=.12,top=.9,\n",
    "                  left=.14,right=.9)\n",
    "\n",
    "plt.show()"
   ]
  },
  {
   "cell_type": "code",
   "execution_count": null,
   "id": "379ec98b-3615-4ef0-9f91-2043c86cb9fe",
   "metadata": {},
   "outputs": [],
   "source": []
  }
 ],
 "metadata": {
  "kernelspec": {
   "display_name": "Python 3 (ipykernel)",
   "language": "python",
   "name": "python3"
  },
  "language_info": {
   "codemirror_mode": {
    "name": "ipython",
    "version": 3
   },
   "file_extension": ".py",
   "mimetype": "text/x-python",
   "name": "python",
   "nbconvert_exporter": "python",
   "pygments_lexer": "ipython3",
   "version": "3.10.12"
  }
 },
 "nbformat": 4,
 "nbformat_minor": 5
}
