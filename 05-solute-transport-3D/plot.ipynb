{
 "cells": [
  {
   "cell_type": "markdown",
   "id": "a2dd55e2-3594-4636-95ba-d207f950fc52",
   "metadata": {},
   "source": [
    "# Plot observation point"
   ]
  },
  {
   "cell_type": "code",
   "execution_count": null,
   "id": "e4c3751a-a725-4e1a-8cff-20191e6bc50a",
   "metadata": {},
   "outputs": [],
   "source": [
    "import sys\n",
    "import os\n",
    "try:\n",
    "  pflotran_dir = os.environ['PFLOTRAN_DIR']\n",
    "except KeyError:\n",
    "  print('PFLOTRAN_DIR must point to PFLOTRAN installation directory and be defined in system environment variables.')\n",
    "  sys.exit(1)\n",
    "sys.path.append(pflotran_dir + '/src/python')\n",
    "import numpy as np\n",
    "import matplotlib\n",
    "import matplotlib.pyplot as plt\n",
    "import math\n",
    "import pflotran as pft"
   ]
  },
  {
   "cell_type": "code",
   "execution_count": null,
   "id": "77c35d33-e56a-4f8b-8df9-93cfa091ce3a",
   "metadata": {},
   "outputs": [],
   "source": [
    "path = []\n",
    "path.append('.')\n",
    "\n",
    "files = []\n",
    "# 1 core\n",
    "files.append('3D_solute-obs-0.pft')\n",
    "# 8 cores\n",
    "#files.append('regional_doublet-obs-1.pft')\n",
    "filenames = pft.get_full_paths(path,files)"
   ]
  },
  {
   "cell_type": "code",
   "execution_count": null,
   "id": "5396d780-b255-4369-a3c5-60b6bf76a654",
   "metadata": {},
   "outputs": [],
   "source": [
    "f = plt.figure(figsize=(8,6), dpi=150)\n",
    "plt.subplot(1,1,1)\n",
    "f.suptitle(\"Center Obs. Point\",fontsize=14)\n",
    "plt.xlabel('Time [y]')\n",
    "plt.ylabel('Concentration [M]')\n",
    "\n",
    "#plt.xlim(0.,1.)\n",
    "plt.ylim(0.,1.3)\n",
    "#plt.grid(True)\n",
    "\n",
    "icols = [4,11]\n",
    "for i in range(len(icols)):\n",
    "  data = pft.Dataset(filenames[0],1,icols[i])\n",
    "  plt.plot(data.get_array('x'),data.get_array('y'),label=data.get_name('yname'))\n",
    "\n",
    "plt.legend(loc=1,title='Location')\n",
    "# xx-small, x-small, small, medium, large, x-large, xx-large, 12, 14\n",
    "plt.setp(plt.gca().get_legend().get_texts(),fontsize='small')\n",
    "plt.setp(plt.gca().get_legend().get_texts(),linespacing=0.)\n",
    "plt.gca().get_legend().get_frame().set_fill(False)\n",
    "plt.gca().get_legend().draw_frame(False)\n",
    "#plt.gca().yaxis.get_major_formatter().set_powerlimits((-1,1))\n",
    "\n",
    "f.subplots_adjust(hspace=0.2,wspace=0.2,\n",
    "                  bottom=.12,top=.9,\n",
    "                  left=.14,right=.9)\n",
    "\n",
    "plt.show()"
   ]
  },
  {
   "cell_type": "code",
   "execution_count": null,
   "id": "38962382-2d94-4bd3-959f-0a14cbfdaf9b",
   "metadata": {},
   "outputs": [],
   "source": []
  }
 ],
 "metadata": {
  "kernelspec": {
   "display_name": "Python 3 (ipykernel)",
   "language": "python",
   "name": "python3"
  },
  "language_info": {
   "codemirror_mode": {
    "name": "ipython",
    "version": 3
   },
   "file_extension": ".py",
   "mimetype": "text/x-python",
   "name": "python",
   "nbconvert_exporter": "python",
   "pygments_lexer": "ipython3",
   "version": "3.10.12"
  }
 },
 "nbformat": 4,
 "nbformat_minor": 5
}
