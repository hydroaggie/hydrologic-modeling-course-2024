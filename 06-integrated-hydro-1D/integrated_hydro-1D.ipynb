{
 "cells": [
  {
   "cell_type": "markdown",
   "metadata": {},
   "source": [
    "# Integrated Hydrology"
   ]
  },
  {
   "cell_type": "markdown",
   "metadata": {},
   "source": [
    "This is a series of problems to test and demonstrate the integrated hydrology components of ATS.  Integrated hydrology consists of Richards equation in the subsurface coupled to a diffusion wave approximation on the surface system.  Coupling is done through assuming continuous pressure and flux across the surface-subsurface interface.\n",
    "\n",
    "Tests demonstrate a 1D column (showing dry-to-wet and wet-to-dry transitions), a 2D \"open book\" problem (showing that water flows down hill) and a typical 2D \"hillslope\" problem comparable to the Sulis et al (WRR) benchmark problems.\n",
    "\n",
    "Author: Ethan Coon"
   ]
  },
  {
   "cell_type": "code",
   "execution_count": null,
   "metadata": {},
   "outputs": [],
   "source": [
    "%matplotlib inline"
   ]
  },
  {
   "cell_type": "code",
   "execution_count": null,
   "metadata": {},
   "outputs": [],
   "source": [
    "import sys,os\n",
    "sys.path.append(os.path.join(os.environ['ATS_SRC_DIR'],'tools', 'utils'))\n",
    "sys.path.append(os.path.join(os.environ['ATS_SRC_DIR'],'docs', 'documentation', 'source', 'ats_demos'))\n",
    "\n",
    "import ats_xdmf\n",
    "import plot_column_data\n",
    "\n",
    "import colors\n",
    "import numpy as np\n",
    "from matplotlib import pyplot as plt\n",
    "from matplotlib import colorbar\n",
    "import pandas\n",
    "import run_demos"
   ]
  },
  {
   "cell_type": "markdown",
   "metadata": {},
   "source": [
    "## Example 1: 1D infiltration\n",
    "\n",
    "In the first example, we rain on a column for half a day, then turn off the rain.  A continuous, constant baseflow is applied as a sink at the bottom of the column.  Initially the column is partially saturated.  As rainfall > baseflow, the column saturates and ponded water expresses on the surface.  After rainfall stops, baseflow takes the water table below the surface again. \n",
    "\n",
    "This demonstrates the dry-to-wet and wet-to-dry transitions.\n",
    "\n",
    "Note: rainfall rate is in `m/s` while baseflow is in `mol/s`! To convert from `mol/s` to `m/s`, we need water molar density (typically 55389 []) and cell area (e.g., 1 [m^2]).\n",
    "\n",
    "E.g., to get baseflow in [m/s]\n",
    "$$\n",
    "0.04 [mol/s] / 55389 [mol/m^3] / 1 [m^2] = 7.2e-07 [m/s]\n",
    "$$"
   ]
  },
  {
   "cell_type": "code",
   "execution_count": null,
   "metadata": {},
   "outputs": [],
   "source": [
    "# load the ATS solution\n",
    "directory = \".\"\n",
    "vis = ats_xdmf.VisFile(directory, time_unit='d')\n",
    "vis.loadMesh(columnar=True)\n",
    "\n",
    "vis_surf = ats_xdmf.VisFile(directory, domain='surface', time_unit='d')\n",
    "vis.loadMesh(columnar=True)\n"
   ]
  },
  {
   "cell_type": "code",
   "execution_count": null,
   "metadata": {},
   "outputs": [],
   "source": [
    "# plot the solution\n",
    "fig, axs = plt.subplots(1,2, figsize=(10,4))\n",
    "\n",
    "plot_column_data.plot_subsurface(vis, ['saturation_liquid',], axs[0], None, cmap='jet')\n",
    "axs[0].set_xlabel('saturation [-]')\n",
    "axs[0].set_ylabel('z [m]')\n",
    "axs[0].set_xlim(0.7,1.05)\n",
    "axs[0].set_ylim(0,10)\n",
    "axs[0].set_title('Subsurface saturation')\n",
    "\n",
    "plot_column_data.plot_surface(vis_surf, ['ponded_depth',], axs[1], 'ponded depth [m]','k')\n",
    "axs[1].set_xlabel(\"time [days]\")\n",
    "axs[1].set_ylabel(\"ponded depth [m]\")\n",
    "axs[1].set_title('Surface ponded depth')\n",
    "plt.show()"
   ]
  }
 ],
 "metadata": {
  "kernelspec": {
   "display_name": "Python 3 (ipykernel)",
   "language": "python",
   "name": "python3"
  },
  "language_info": {
   "codemirror_mode": {
    "name": "ipython",
    "version": 3
   },
   "file_extension": ".py",
   "mimetype": "text/x-python",
   "name": "python",
   "nbconvert_exporter": "python",
   "pygments_lexer": "ipython3",
   "version": "3.10.12"
  },
  "name": "integrated_hydro.ipynb"
 },
 "nbformat": 4,
 "nbformat_minor": 4
}
