{
 "cells": [
  {
   "cell_type": "markdown",
   "id": "264e072d-71ba-41ee-ad53-1c5f9d1154e5",
   "metadata": {},
   "source": [
    "# Plot observation vs simulation"
   ]
  },
  {
   "cell_type": "code",
   "execution_count": null,
   "id": "c5043922-0e55-456d-bce4-dee617c9c4de",
   "metadata": {},
   "outputs": [],
   "source": [
    "import pandas as pd\n",
    "import matplotlib\n",
    "import matplotlib.pyplot as plt"
   ]
  },
  {
   "cell_type": "code",
   "execution_count": null,
   "id": "1605bbd7-443e-4a8f-958c-c7cda559796c",
   "metadata": {},
   "outputs": [],
   "source": [
    "obs_df = pd.read_csv('./observation.csv',sep=',')\n",
    "\n",
    "simu_df = pd.read_csv('./trial.seo',sep='\\s+')\n",
    "\n",
    "para = pd.read_csv('./trial.par', sep='\\s+', skiprows=1, header=None)"
   ]
  },
  {
   "cell_type": "code",
   "execution_count": null,
   "id": "f2f0559f-216b-43f2-9be3-b1c24b29f691",
   "metadata": {},
   "outputs": [],
   "source": [
    "fig, ax=plt.subplots(1,1, figsize=(6,4))\n",
    "\n",
    "ax.plot(obs_df['Time [d]'], simu_df['Measured'], label='measured')\n",
    "ax.plot(obs_df['Time [d]'], simu_df['Modelled'], label='modeled', linestyle='dashed')\n",
    "\n",
    "ax.set_xlabel('Time [d]')\n",
    "ax.set_ylabel('Concentration [M]')\n",
    "plt.title(f'Optimal parameter value: {para.iloc[0, 0]}={str(para.iloc[0, 1])}')\n",
    "ax.legend()"
   ]
  },
  {
   "cell_type": "code",
   "execution_count": null,
   "id": "811aae87-644a-412c-a224-3cdbc3c76d2c",
   "metadata": {},
   "outputs": [],
   "source": []
  }
 ],
 "metadata": {
  "kernelspec": {
   "display_name": "Python 3 (ipykernel)",
   "language": "python",
   "name": "python3"
  },
  "language_info": {
   "codemirror_mode": {
    "name": "ipython",
    "version": 3
   },
   "file_extension": ".py",
   "mimetype": "text/x-python",
   "name": "python",
   "nbconvert_exporter": "python",
   "pygments_lexer": "ipython3",
   "version": "3.10.12"
  }
 },
 "nbformat": 4,
 "nbformat_minor": 5
}
